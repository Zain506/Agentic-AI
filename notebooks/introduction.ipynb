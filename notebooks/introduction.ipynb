{
 "cells": [
  {
   "attachments": {},
   "cell_type": "markdown",
   "id": "8b3dcc84-0840-4463-a27c-64cc8d7a16b2",
   "metadata": {},
   "source": [
    "# Introduction to CrewAI\n",
    "[Documentation](https://docs.crewai.com/en/introduction)\n",
    "\n",
    "## CrewAI systems can be built using either Crews or Flows\n",
    "\n",
    "**Often you can use Flows to orchestrate the entire overall process and Crews to handle complex subtasks**\n",
    "- *Crews*: For autonomous problem-solving, creative collaboration or exploratory tasks\n",
    "- *Flows*: For deterministic outcomes, auditability, or precise control over execution.\n",
    "\n",
    "## How Crews work\n",
    "\n",
    "- Crew: Team of agents with a specific goal\n",
    "- AI agents: Role-based with access to flexible tools. Delegate tasks and make decisions\n",
    "- Process: Define collaboration patterns and manages interactions\n",
    "- Tasks: Individual assignments fed into the larger process. Can be sequential or parallel\n",
    "\n",
    "## How Flows work\n",
    "- Flow: Structured orchestration managing pathways, transitions and task sequencing\n",
    "- Events: Triggers that initiate processes\n",
    "- States: Provide context to the execution\n",
    "- Crew support: Injects crews where needed\n",
    "\n",
    "Overall **decides which crews to use and when**\n",
    "\n",
    "---"
   ]
  },
  {
   "cell_type": "markdown",
   "id": "83cff970-ee59-4442-8dc5-6984900c62c2",
   "metadata": {},
   "source": [
    "# 1. Define agents and tasks"
   ]
  },
  {
   "cell_type": "code",
   "execution_count": null,
   "id": "d9250d18-deb6-4356-b498-73c35490e20d",
   "metadata": {},
   "outputs": [],
   "source": [
    "# in agents.yaml\n",
    "\n",
    "# $name_of_agent:\n",
    "#     role: >\n",
    "#         [insert role here]\n",
    "#     goal: >\n",
    "#     backstory: >\n",
    "#     llm: >"
   ]
  },
  {
   "cell_type": "code",
   "execution_count": null,
   "id": "0829b05f-ddf4-4f08-9b36-e83a83f5db2f",
   "metadata": {},
   "outputs": [],
   "source": [
    "# in tasks.yaml\n",
    "\n",
    "# $name_of_task:\n",
    "#     description: >\n",
    "#     expected_output: >\n",
    "#     agent: $assigned_agent"
   ]
  },
  {
   "cell_type": "markdown",
   "id": "9add89a5-9920-411a-bb7d-6b7f4ff20863",
   "metadata": {},
   "source": [
    "# 2. Configure Crew"
   ]
  },
  {
   "cell_type": "code",
   "execution_count": null,
   "id": "d94b7afb-4ddd-47dc-ae99-77da5b77db5d",
   "metadata": {},
   "outputs": [],
   "source": [
    "# src/research_crew/crew.py\n",
    "from typing import List\n",
    "\n",
    "from crewai import Agent, Crew, Process, Task\n",
    "\n",
    "# from crewai_tools import SerperDevTool\n",
    "from crewai.agents.agent_builder.base_agent import BaseAgent\n",
    "from crewai.project import CrewBase, agent, crew, task\n",
    "\n",
    "\n",
    "@CrewBase\n",
    "class ResearchCrew():\n",
    "    \"\"\"Research crew for comprehensive topic analysis and reporting\"\"\"\n",
    "\n",
    "    agents: List[BaseAgent]\n",
    "    tasks: List[Task]\n",
    "\n",
    "    # Defining agent\n",
    "    @agent\n",
    "    def agent(self) -> Agent: # Function name should be same name as agent from .yaml\n",
    "        return Agent(\n",
    "            config = self.agents_config['$agent_name'],\n",
    "            verbose=True # or False for written explanations\n",
    "            # tools=[ExampleTool()]\n",
    "            # Add tools if they are imported from crewai_tools\n",
    "        )\n",
    "\n",
    "    # Defining task\n",
    "    @task\n",
    "    def task(self) -> Task: # Same function naming convention as agents\n",
    "        return Task(\n",
    "            config = self.tasks_config['$task_name'],\n",
    "            # output_file='filepath.md'\n",
    "            # Optional: if want outputs logged\n",
    "        )\n",
    "\n",
    "    # Define crew once\n",
    "    @crew\n",
    "    def crew(self) -> Crew:\n",
    "        \"\"\"Creates the research crew\"\"\"\n",
    "        return Crew(\n",
    "            agents=self.agents,\n",
    "            tasks=self.tasks,\n",
    "            process=Process.sequential,\n",
    "            verbose=True,\n",
    "        )"
   ]
  },
  {
   "cell_type": "markdown",
   "id": "f1f9038d-b7b3-47dd-bfd1-f3f8d0ba10b9",
   "metadata": {},
   "source": [
    "# 3. Set up main script"
   ]
  },
  {
   "cell_type": "code",
   "execution_count": null,
   "id": "7dc9dac2-cde7-46b6-8bb3-8954e27573af",
   "metadata": {},
   "outputs": [],
   "source": [
    "# src/agentic_ai/main.py\n",
    "import os\n",
    "\n",
    "# from $filename.crew import $crewname\n",
    "\n",
    "# Create output directory if it doesn't exist\n",
    "os.makedirs('output', exist_ok=True)\n",
    "\n",
    "def run():\n",
    "    \"\"\"\n",
    "    Run the research crew.\n",
    "    \"\"\"\n",
    "    \n",
    "    ########### Start of important bit ##################\n",
    "    # inputs = {\n",
    "    #     'topic': 'Artificial Intelligence in Healthcare'\n",
    "    # }\n",
    "\n",
    "    # Create and run the crew\n",
    "    # result = ResearchCrew().crew().kickoff(inputs=inputs)\n",
    "    ########### End of important bit #####################\n",
    "    \n",
    "    # Print the result\n",
    "    print(\"\\n\\n=== FINAL REPORT ===\\n\\n\")\n",
    "    # print(result.raw)\n",
    "\n",
    "    print(\"\\n\\nReport has been saved to output/report.md\")\n",
    "\n",
    "if __name__ == \"__main__\":\n",
    "    run()"
   ]
  }
 ],
 "metadata": {
  "kernelspec": {
   "display_name": "Python 3 (ipykernel)",
   "language": "python",
   "name": "python3"
  },
  "language_info": {
   "codemirror_mode": {
    "name": "ipython",
    "version": 3
   },
   "file_extension": ".py",
   "mimetype": "text/x-python",
   "name": "python",
   "nbconvert_exporter": "python",
   "pygments_lexer": "ipython3",
   "version": "3.11.2"
  }
 },
 "nbformat": 4,
 "nbformat_minor": 5
}
