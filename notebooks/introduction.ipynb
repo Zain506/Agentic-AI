{
 "cells": [
  {
   "cell_type": "markdown",
   "id": "5c47c7c3-5f58-4b37-83b0-bc03c9d676d6",
   "metadata": {},
   "source": [
    "# Introduction to CrewAI\n",
    "[Documentation](https://docs.crewai.com/en/introduction)"
   ]
  }
 ],
 "metadata": {
  "kernelspec": {
   "display_name": "Python 3 (ipykernel)",
   "language": "python",
   "name": "python3"
  },
  "language_info": {
   "codemirror_mode": {
    "name": "ipython",
    "version": 3
   },
   "file_extension": ".py",
   "mimetype": "text/x-python",
   "name": "python",
   "nbconvert_exporter": "python",
   "pygments_lexer": "ipython3",
   "version": "3.11.2"
  }
 },
 "nbformat": 4,
 "nbformat_minor": 5
}
