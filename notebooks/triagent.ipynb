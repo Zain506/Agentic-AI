{
 "cells": [
  {
   "cell_type": "markdown",
   "id": "dafa38b3-7bee-49b7-88a4-3bea802c42c8",
   "metadata": {},
   "source": [
    "# TriAgent\n",
    "\n",
    "- [Paper (17 October 2025)](https://arxiv.org/pdf/2510.16080)\n",
    "- Aims at assisting in Triaging patients in emergency depts\n",
    "- F1 score 55.7 +/- 5%\n",
    "- Exceeds CoT-ReAct\n",
    "- Objective: **Recreate using CrewAI**\n",
    "- Standard triage process:\n",
    "      1. biomarkers,\n",
    "      2. structured scoring system to define risk categories\n",
    "      \n",
    "| Graph-based multi-agent system designed for automated biomarker discovery and literature-based validation and justification"
   ]
  },
  {
   "cell_type": "markdown",
   "id": "a22bf482-926e-4a2a-afb8-a2534078f98c",
   "metadata": {},
   "source": [
    "# Scoping Agent\n",
    "\n",
    "- Input: Given a query $Q$\n",
    "- Output: Research brief $B_1 = f_s(Q,C)$\n",
    "- $C$ represents user-defined constraints eg evidence level, patient demographics, medical conditions)"
   ]
  },
  {
   "cell_type": "markdown",
   "id": "2c524c5b-394b-4496-9668-0a41a30622d6",
   "metadata": {},
   "source": [
    "# Data Analysis Agent\n",
    "\n",
    "- Identifies potential biomarkers\n",
    "- Analyse dataset to find most relevant biomarkers\n",
    "- Apply Exploratory Data Analysis to generate descriptive statistics $S$\n",
    "- Calls **AutoML** pipeline to perform preprocessing\n",
    "  $$\n",
    "f_\\text{automl} (D,y,\\theta) = M^*, \\{\\phi _i , x _i ^* \\}\n",
    "  $$\n",
    "- Where $M^*$ is the optimal model, $x_i ^*$ each candidate biomarker and $\\phi _i$ normalised weight for its respective biomarker.\n",
    "- Output Brief-2 $B_2 = \\{(x_i^*, \\phi _i ) | i = 1,...,n \\}$\n",
    "- Outputs most important biomarkers and their respective weights to feed to LLM"
   ]
  },
  {
   "cell_type": "markdown",
   "id": "617f192b-90e0-4641-81af-95fcebdd5b68",
   "metadata": {},
   "source": [
    "# Research Supervisor Agent\n",
    "\n",
    "- Consume $B_1$ and $B_2$\n",
    "\n",
    "$$\n",
    "T_p = \\text{LLM}(B_1, B_2)  \\to q_1,...,q_n \\text{ \\& } R_S = (\\tau _g , \\nu )\n",
    "$$\n",
    "\n",
    "- Formulate topic plan $T_p$\n",
    "- Formulate set of topic-specific queries $q_i$\n",
    "- Formulate strategies to investigate each biomarker $x_i ^*$ and research strategy $R_S$\n",
    "- Specify threshold for grounding $\\tau _g$ and novelty $\\nu$\n",
    "\n",
    "\n",
    "- Each agent $i$ uses RAG to perform multi-source searches given query $q_i$\n",
    "- Given research topic $q_i$, each retrieved evidence framework $e_{ij}$ is assigned a similarity score $s_{ij}$\n",
    "\n",
    "- Upon completion of topic research, retrive findings $F = \\{f_i\\}$\n",
    "- Assign each finding with evidence ID $E = \\{ e_i \\}$"
   ]
  },
  {
   "cell_type": "markdown",
   "id": "2f5d2ba6-2238-4163-8740-dd09e1cc663d",
   "metadata": {},
   "source": [
    "# Reporting Agent\n",
    "\n",
    "- Syntehsise full pipeline output into detailed report $R$\n",
    "\n",
    "$$\n",
    "R = \\text{LLM}(B_1, B_2, F, E)\n",
    "$$"
   ]
  }
 ],
 "metadata": {
  "kernelspec": {
   "display_name": "Python 3 (ipykernel)",
   "language": "python",
   "name": "python3"
  },
  "language_info": {
   "codemirror_mode": {
    "name": "ipython",
    "version": 3
   },
   "file_extension": ".py",
   "mimetype": "text/x-python",
   "name": "python",
   "nbconvert_exporter": "python",
   "pygments_lexer": "ipython3",
   "version": "3.11.2"
  }
 },
 "nbformat": 4,
 "nbformat_minor": 5
}
