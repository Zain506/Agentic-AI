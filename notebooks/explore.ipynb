{
 "cells": [
  {
   "cell_type": "markdown",
   "id": "979e53a8-24f4-4a3d-bd08-825634c8236c",
   "metadata": {},
   "source": [
    "# Agentic AI"
   ]
  },
  {
   "cell_type": "markdown",
   "id": "1d18fecb-2277-44fb-ad68-563f048e4c31",
   "metadata": {},
   "source": [
    "Consider the following [paper](https://arxiv.org/pdf/2506.13068)"
   ]
  },
  {
   "cell_type": "markdown",
   "id": "c105be9e-7fff-4870-a112-7185ebcd6200",
   "metadata": {},
   "source": [
    "**Exploring CrewAI**\n",
    "- **Crew** consists of\n",
    "    1. **Agents** (use {} to specify input that will be defined at runtime)\n",
    "        - Role\n",
    "        - Goal\n",
    "        - Backstory\n",
    "        - llm\n",
    "        - Tools (List of tools it could use: MCP server or manually add)\n",
    "    3. **Tasks**\n",
    "        - Description (what needs to be done: Prompt)\n",
    "        - Expected output (prompt)\n",
    "        - Agent being used\n",
    "        - Context (input eg output of previous task)\n",
    "- **Process** defines the workflow\n",
    "\n",
    "\n",
    "**NOTE**: Good practice is to move all prompts and text to a .yaml file "
   ]
  },
  {
   "cell_type": "code",
   "execution_count": 4,
   "id": "a714f0c7-d1f6-4319-b42a-285ccd79d2c5",
   "metadata": {},
   "outputs": [],
   "source": [
    "from crewai import Agent, Task, Crew, LLM"
   ]
  },
  {
   "cell_type": "code",
   "execution_count": null,
   "id": "bdc1a5ea-5389-497b-a6a7-cbcf0e0757c2",
   "metadata": {},
   "outputs": [],
   "source": []
  }
 ],
 "metadata": {
  "kernelspec": {
   "display_name": "Python 3 (ipykernel)",
   "language": "python",
   "name": "python3"
  },
  "language_info": {
   "codemirror_mode": {
    "name": "ipython",
    "version": 3
   },
   "file_extension": ".py",
   "mimetype": "text/x-python",
   "name": "python",
   "nbconvert_exporter": "python",
   "pygments_lexer": "ipython3",
   "version": "3.12.3"
  }
 },
 "nbformat": 4,
 "nbformat_minor": 5
}
